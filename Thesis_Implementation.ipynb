{
  "nbformat": 4,
  "nbformat_minor": 0,
  "metadata": {
    "colab": {
      "name": "Thesis Implementation",
      "provenance": [],
      "include_colab_link": true
    },
    "kernelspec": {
      "name": "python3",
      "display_name": "Python 3"
    },
    "accelerator": "GPU"
  },
  "cells": [
    {
      "cell_type": "markdown",
      "metadata": {
        "id": "view-in-github",
        "colab_type": "text"
      },
      "source": [
        "<a href=\"https://colab.research.google.com/github/Kinzaay/ThesisP2/blob/main/Thesis_Implementation.ipynb\" target=\"_parent\"><img src=\"https://colab.research.google.com/assets/colab-badge.svg\" alt=\"Open In Colab\"/></a>"
      ]
    },
    {
      "cell_type": "markdown",
      "metadata": {
        "id": "LWTVk_PITxiE"
      },
      "source": [
        "# Draft"
      ]
    },
    {
      "cell_type": "code",
      "metadata": {
        "id": "M9Az9CQpTT8_",
        "colab": {
          "base_uri": "https://localhost:8080/"
        },
        "outputId": "890bcfbe-585c-4570-ea8c-9870906b4f92"
      },
      "source": [
        "!git clone https://github.com/shunsukesaito/PIFu.git"
      ],
      "execution_count": 14,
      "outputs": [
        {
          "output_type": "stream",
          "name": "stdout",
          "text": [
            "Cloning into 'PIFu'...\n",
            "remote: Enumerating objects: 221, done.\u001b[K\n",
            "remote: Counting objects: 100% (14/14), done.\u001b[K\n",
            "remote: Compressing objects: 100% (13/13), done.\u001b[K\n",
            "remote: Total 221 (delta 4), reused 5 (delta 1), pack-reused 207\u001b[K\n",
            "Receiving objects: 100% (221/221), 2.43 MiB | 26.80 MiB/s, done.\n",
            "Resolving deltas: 100% (90/90), done.\n"
          ]
        }
      ]
    },
    {
      "cell_type": "code",
      "metadata": {
        "id": "UrIcZweSNRFI",
        "colab": {
          "base_uri": "https://localhost:8080/"
        },
        "outputId": "f10c5300-0b38-4517-cccb-ca349b065ffc"
      },
      "source": [
        "cd /content/PIFu"
      ],
      "execution_count": 15,
      "outputs": [
        {
          "output_type": "stream",
          "name": "stdout",
          "text": [
            "/content/PIFu\n"
          ]
        }
      ]
    },
    {
      "cell_type": "code",
      "metadata": {
        "id": "k3jjm6HuQRk8",
        "colab": {
          "base_uri": "https://localhost:8080/"
        },
        "outputId": "48af5394-603d-4b12-87fc-d15351381ffe"
      },
      "source": [
        "!sh ./scripts/download_trained_model.sh"
      ],
      "execution_count": 16,
      "outputs": [
        {
          "output_type": "stream",
          "name": "stdout",
          "text": [
            "+ mkdir -p checkpoints\n",
            "+ cd checkpoints\n",
            "+ wget https://drive.google.com/uc?export=download&id=1zEmVXG2VHy0MMzngcRshB4D8Sr_oLHsm -O net_G\n",
            "--2023-05-27 01:37:06--  https://drive.google.com/uc?export=download&id=1zEmVXG2VHy0MMzngcRshB4D8Sr_oLHsm\n",
            "Resolving drive.google.com (drive.google.com)... 173.194.79.102, 173.194.79.100, 173.194.79.113, ...\n",
            "Connecting to drive.google.com (drive.google.com)|173.194.79.102|:443... connected.\n",
            "HTTP request sent, awaiting response... 303 See Other\n",
            "Location: https://doc-14-0o-docs.googleusercontent.com/docs/securesc/ha0ro937gcuc7l7deffksulhg5h7mbp1/39ajjg285vtkugai8t5fcvikrahphsac/1685151375000/14428417455748421393/*/1zEmVXG2VHy0MMzngcRshB4D8Sr_oLHsm?e=download&uuid=32c03182-a67b-4749-a562-ea356e7f15e7 [following]\n",
            "Warning: wildcards not supported in HTTP.\n",
            "--2023-05-27 01:37:10--  https://doc-14-0o-docs.googleusercontent.com/docs/securesc/ha0ro937gcuc7l7deffksulhg5h7mbp1/39ajjg285vtkugai8t5fcvikrahphsac/1685151375000/14428417455748421393/*/1zEmVXG2VHy0MMzngcRshB4D8Sr_oLHsm?e=download&uuid=32c03182-a67b-4749-a562-ea356e7f15e7\n",
            "Resolving doc-14-0o-docs.googleusercontent.com (doc-14-0o-docs.googleusercontent.com)... 108.177.126.132, 2a00:1450:4013:c01::84\n",
            "Connecting to doc-14-0o-docs.googleusercontent.com (doc-14-0o-docs.googleusercontent.com)|108.177.126.132|:443... connected.\n",
            "HTTP request sent, awaiting response... 200 OK\n",
            "Length: 62510909 (60M) [application/octet-stream]\n",
            "Saving to: ‘net_G’\n",
            "\n",
            "net_G               100%[===================>]  59.61M   237MB/s    in 0.3s    \n",
            "\n",
            "2023-05-27 01:37:11 (237 MB/s) - ‘net_G’ saved [62510909/62510909]\n",
            "\n",
            "+ wget https://drive.google.com/uc?export=download&id=1V83B6GDIjYMfHdpg-KcCSAPgHxpafHgd -O net_C\n",
            "--2023-05-27 01:37:11--  https://drive.google.com/uc?export=download&id=1V83B6GDIjYMfHdpg-KcCSAPgHxpafHgd\n",
            "Resolving drive.google.com (drive.google.com)... 173.194.79.102, 173.194.79.100, 173.194.79.113, ...\n",
            "Connecting to drive.google.com (drive.google.com)|173.194.79.102|:443... connected.\n",
            "HTTP request sent, awaiting response... 303 See Other\n",
            "Location: https://doc-00-0o-docs.googleusercontent.com/docs/securesc/ha0ro937gcuc7l7deffksulhg5h7mbp1/ivsush6h1ma1qit2f72rvasv0se4u0mc/1685151375000/14428417455748421393/*/1V83B6GDIjYMfHdpg-KcCSAPgHxpafHgd?e=download&uuid=aadfc48e-9d6f-43ec-a818-54b57f75d43e [following]\n",
            "Warning: wildcards not supported in HTTP.\n",
            "--2023-05-27 01:37:14--  https://doc-00-0o-docs.googleusercontent.com/docs/securesc/ha0ro937gcuc7l7deffksulhg5h7mbp1/ivsush6h1ma1qit2f72rvasv0se4u0mc/1685151375000/14428417455748421393/*/1V83B6GDIjYMfHdpg-KcCSAPgHxpafHgd?e=download&uuid=aadfc48e-9d6f-43ec-a818-54b57f75d43e\n",
            "Resolving doc-00-0o-docs.googleusercontent.com (doc-00-0o-docs.googleusercontent.com)... 108.177.126.132, 2a00:1450:4013:c01::84\n",
            "Connecting to doc-00-0o-docs.googleusercontent.com (doc-00-0o-docs.googleusercontent.com)|108.177.126.132|:443... connected.\n",
            "HTTP request sent, awaiting response... 200 OK\n",
            "Length: 36570643 (35M) [application/octet-stream]\n",
            "Saving to: ‘net_C’\n",
            "\n",
            "net_C               100%[===================>]  34.88M   179MB/s    in 0.2s    \n",
            "\n",
            "2023-05-27 01:37:14 (179 MB/s) - ‘net_C’ saved [36570643/36570643]\n",
            "\n",
            "+ cd ..\n"
          ]
        }
      ]
    },
    {
      "cell_type": "code",
      "source": [
        "!pip install torch==1.4.0"
      ],
      "metadata": {
        "id": "fr2fAD4h4ktw",
        "outputId": "97968f39-a915-45a0-9827-4ca240f09a2c",
        "colab": {
          "base_uri": "https://localhost:8080/"
        }
      },
      "execution_count": 17,
      "outputs": [
        {
          "output_type": "stream",
          "name": "stdout",
          "text": [
            "Looking in indexes: https://pypi.org/simple, https://us-python.pkg.dev/colab-wheels/public/simple/\n",
            "\u001b[31mERROR: Could not find a version that satisfies the requirement torch==1.4.0 (from versions: 1.11.0, 1.12.0, 1.12.1, 1.13.0, 1.13.1, 2.0.0, 2.0.1)\u001b[0m\u001b[31m\n",
            "\u001b[0m\u001b[31mERROR: No matching distribution found for torch==1.4.0\u001b[0m\u001b[31m\n",
            "\u001b[0m"
          ]
        }
      ]
    },
    {
      "cell_type": "code",
      "source": [
        "!pip install torchvision==0.5.0"
      ],
      "metadata": {
        "id": "YchK6vyd6Bls",
        "outputId": "de8a15f8-0441-4565-b7d2-470932bee0a6",
        "colab": {
          "base_uri": "https://localhost:8080/"
        }
      },
      "execution_count": 18,
      "outputs": [
        {
          "output_type": "stream",
          "name": "stdout",
          "text": [
            "Looking in indexes: https://pypi.org/simple, https://us-python.pkg.dev/colab-wheels/public/simple/\n",
            "\u001b[31mERROR: Could not find a version that satisfies the requirement torchvision==0.5.0 (from versions: 0.1.6, 0.1.7, 0.1.8, 0.1.9, 0.2.0, 0.2.1, 0.2.2, 0.2.2.post2, 0.2.2.post3, 0.12.0, 0.13.0, 0.13.1, 0.14.0, 0.14.1, 0.15.0, 0.15.1, 0.15.2)\u001b[0m\u001b[31m\n",
            "\u001b[0m\u001b[31mERROR: No matching distribution found for torchvision==0.5.0\u001b[0m\u001b[31m\n",
            "\u001b[0m"
          ]
        }
      ]
    },
    {
      "cell_type": "markdown",
      "metadata": {
        "id": "6heKcA-0QEBw"
      },
      "source": [
        "# RUN model\n"
      ]
    },
    {
      "cell_type": "code",
      "source": [
        "import torch;\n",
        "torch.__version__"
      ],
      "metadata": {
        "id": "fgwl0z-p23rn",
        "outputId": "daef1316-464b-4fef-afa3-4ec31a9f6b57",
        "colab": {
          "base_uri": "https://localhost:8080/",
          "height": 35
        }
      },
      "execution_count": 26,
      "outputs": [
        {
          "output_type": "execute_result",
          "data": {
            "text/plain": [
              "'2.0.1+cu118'"
            ],
            "application/vnd.google.colaboratory.intrinsic+json": {
              "type": "string"
            }
          },
          "metadata": {},
          "execution_count": 26
        }
      ]
    },
    {
      "cell_type": "code",
      "metadata": {
        "id": "5995t2PnQTmG",
        "colab": {
          "base_uri": "https://localhost:8080/"
        },
        "outputId": "db6489ef-a558-4d8a-ce7a-a4475ae5bf3c"
      },
      "source": [
        "!sh ./scripts/test.sh"
      ],
      "execution_count": 27,
      "outputs": [
        {
          "output_type": "stream",
          "name": "stdout",
          "text": [
            "+ GPU_ID=0\n",
            "+ DISPLAY_ID=10\n",
            "+ NAME=pifu_demo\n",
            "+ BATCH_SIZE=1\n",
            "+ MLP_DIM=257 1024 512 256 128 1\n",
            "+ MLP_DIM_COLOR=513 1024 512 256 128 3\n",
            "+ VOL_RES=256\n",
            "+ CHECKPOINTS_NETG_PATH=./checkpoints/net_G\n",
            "+ CHECKPOINTS_NETC_PATH=./checkpoints/net_C\n",
            "+ TEST_FOLDER_PATH=./sample_images\n",
            "+ CUDA_VISIBLE_DEVICES=0 python ./apps/eval.py --name pifu_demo --batch_size 1 --mlp_dim 257 1024 512 256 128 1 --mlp_dim_color 513 1024 512 256 128 3 --num_stack 4 --num_hourglass 2 --resolution 256 --hg_down ave_pool --norm group --norm_color group --test_folder_path ./sample_images --load_netG_checkpoint_path ./checkpoints/net_G --load_netC_checkpoint_path ./checkpoints/net_C\n",
            "initialize network with normal\n",
            "Using Network:  hgpifu\n",
            "loading for net C ... ./checkpoints/net_C\n",
            "initialize network with normal\n",
            "num;  2\n",
            "0it [00:00, ?it/s]./sample_images/g.png ./sample_images/g_mask.png\n",
            "1it [00:08,  8.61s/it]./sample_images/boy.png ./sample_images/boy_mask.png\n",
            "2it [00:14,  7.11s/it]\n"
          ]
        }
      ]
    }
  ]
}